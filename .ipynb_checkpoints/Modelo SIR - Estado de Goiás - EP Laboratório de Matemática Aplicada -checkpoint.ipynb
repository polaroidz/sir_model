{
 "cells": [
  {
   "cell_type": "markdown",
   "id": "0b178482",
   "metadata": {},
   "source": [
    "# Exercício Programa -  Modelo SIR de propagação de doenças infecciosas\n",
    "\n",
    "### MAP0131 - Laboratório de Matemática Aplicada (02-2021)\n",
    "\n",
    "#### Integrantes do Grupo\n",
    "\n",
    "Bruno Kinsch de Lara Campos - NUSP: 12557376\n",
    "\n",
    "Diego Magalhães Rodrigues - NUSP: 12704028\n",
    "\n",
    "#### Descrição\n",
    "\n",
    "Esse notebook consiste na solução ao Exercío Programa da disciplina de Laboratório de Matemática Aplicada do Curso Bacharelado de Estatística da USP. Nele codificamos o modelo baseado em Equações Diferenciais chamado SIR aos dados coletados pelo Ministério da Saúde, juntamente com os das Secretarias Estaduais de Saúde, sobre a pandemia de Covid-19 no Brasil. Mais precisamente, nesse estudo modelamos a evolução da pandemia no Estado de Goiás no seu primeiro pico que compreendeu os dias entre 17/5/2020 e 08/08/2020."
   ]
  },
  {
   "cell_type": "code",
   "execution_count": 1,
   "id": "f5672b3a",
   "metadata": {},
   "outputs": [],
   "source": [
    "# Importando Dependências\n",
    "\n",
    "import numpy as np\n",
    "import pandas as pd\n",
    "\n",
    "import matplotlib.pyplot as plt\n",
    "\n",
    "import warnings\n",
    "warnings.filterwarnings('ignore')"
   ]
  },
  {
   "cell_type": "markdown",
   "id": "efedb2e1",
   "metadata": {},
   "source": [
    "### Modelo"
   ]
  },
  {
   "cell_type": "code",
   "execution_count": 2,
   "id": "db13fc89",
   "metadata": {},
   "outputs": [],
   "source": [
    "class SIR_Model(object):\n",
    "    \"\"\"\n",
    "    Classe que encapsula o Modelo SIR proposto.\n",
    "\n",
    "    ...\n",
    "\n",
    "    Attributes\n",
    "    ----------\n",
    "    dados : np.array(np.float64)\n",
    "        Os dados usados para o calculo do erro quadrático e para\n",
    "        plotar a simulação a partir do modelo.\n",
    "    b : float\n",
    "        Taxa de Contágio da Doença (default 0.998)\n",
    "    k : float\n",
    "        Tempo Médio de Recuperação (default 1/4)\n",
    "    i : float\n",
    "        Proporção Inicial de Infectados na População (default 0.001)\n",
    "\n",
    "    Methods\n",
    "    -------\n",
    "    predizer(semanas)\n",
    "    grafico_simulado(semanas)\n",
    "    grafico_predicao(semanas_predicao)\n",
    "    erro_quadratico()    \n",
    "    \"\"\"\n",
    "    \n",
    "    \n",
    "    def __init__(self, dados, b = 0.998, k = 1/14, i = 0.001):\n",
    "        self.dados = dados\n",
    "        \n",
    "        self.b = b\n",
    "        self.k = k\n",
    "        self.i = i\n",
    "        \n",
    "    def predizer(self, semanas):\n",
    "        \"\"\"Retorna os dados previstos pelo modelo para as semanas\n",
    "        informadas no argumento do método.\n",
    "\n",
    "        Parameters\n",
    "        ----------\n",
    "        semanas : int\n",
    "            número de semanas a serem simulados.        \n",
    "        \"\"\"\n",
    "        i = self.i\n",
    "        s = 1 - i\n",
    "        dt = 1\n",
    "        \n",
    "        b = self.b\n",
    "        k = self.k\n",
    "        \n",
    "        resultado = []\n",
    "\n",
    "        for t in range(semanas):\n",
    "            # Aplica o método de Euler para gerar os valores com base \n",
    "            # nas semanas.\n",
    "            st, it = -b*s*i, (b*s - k)*i\n",
    "            s, i = s + st*dt, i + it*dt\n",
    "\n",
    "            resultado.append((s,i))\n",
    "\n",
    "        resultado = np.array(resultado)\n",
    "\n",
    "        return resultado\n",
    "    \n",
    "    def grafico_simulado(self, semanas):\n",
    "        resultado = self.predizer(semanas)\n",
    "    \n",
    "        plt.figure(figsize=(9, 5))\n",
    "\n",
    "        plt.title(\"Modelo SIR\")\n",
    "        \n",
    "        plt.plot(resultado[:,0], label='s(t): Suscetíveis')\n",
    "        plt.plot(resultado[:,1], label='i(t): Infectados')\n",
    "\n",
    "        plt.xlabel('Semana Epidemiológica', fontsize=12)\n",
    "        plt.ylabel('Proporção', fontsize=12)\n",
    "        \n",
    "        plt.legend();\n",
    "        \n",
    "    def grafico_predicao(self, semanas_predicao):\n",
    "        semanas_dados = len(self.dados)\n",
    "        \n",
    "        resultado = self.predizer(semanas_dados + semanas_predicao)        \n",
    "        resultado[:semanas_dados,1] = self.dados\n",
    "        \n",
    "        plt.figure(figsize=(9, 5))\n",
    "        \n",
    "        plt.title(\"Extrapolação dos Dados Reais usando o Modelo\")\n",
    "        \n",
    "        plt.plot(resultado[:,1], label='i(t): Resultado do Modelo')\n",
    "        plt.plot(self.dados, label='i(t): Dados Reais')\n",
    "        \n",
    "        plt.xlabel('Semana Epidemiológica', fontsize=12)\n",
    "        plt.ylabel('Proporção de Infectados', fontsize=12)\n",
    "\n",
    "        \n",
    "        plt.legend();        \n",
    "    \n",
    "    def erro_quadratico(self):\n",
    "        \"\"\"Calcula o erro quadrático entre os dados fornecidos e o simulado\n",
    "        pelo modelo dado os parâmetros iniciais (b, k, i).     \n",
    "        \"\"\"\n",
    "\n",
    "        semanas = len(self.dados)\n",
    "        \n",
    "        pred = self.predizer(semanas)    \n",
    "        eq = np.sum((pred[:, 1] - self.dados)**2)\n",
    "    \n",
    "        return eq\n",
    "    "
   ]
  },
  {
   "cell_type": "markdown",
   "id": "a785d7be",
   "metadata": {},
   "source": [
    "### Ajuste do Modelo aos Dados"
   ]
  },
  {
   "cell_type": "code",
   "execution_count": 3,
   "id": "44727f47",
   "metadata": {},
   "outputs": [],
   "source": [
    "filepath = './cases-brazil-states.csv'\n",
    "\n",
    "brasil_data = pd.read_csv(filepath)"
   ]
  },
  {
   "cell_type": "code",
   "execution_count": 4,
   "id": "9222046a",
   "metadata": {},
   "outputs": [],
   "source": [
    "df = brasil_data[brasil_data[\"state\"] == \"GO\"]"
   ]
  },
  {
   "cell_type": "markdown",
   "id": "8abf2d34",
   "metadata": {},
   "source": [
    "Dados foram agregados por semana epidemiológica para facilitar o ajuste e compreensão do modelo."
   ]
  },
  {
   "cell_type": "code",
   "execution_count": 5,
   "id": "7661621e",
   "metadata": {},
   "outputs": [
    {
     "data": {
      "text/html": [
       "<div>\n",
       "<style scoped>\n",
       "    .dataframe tbody tr th:only-of-type {\n",
       "        vertical-align: middle;\n",
       "    }\n",
       "\n",
       "    .dataframe tbody tr th {\n",
       "        vertical-align: top;\n",
       "    }\n",
       "\n",
       "    .dataframe thead th {\n",
       "        text-align: right;\n",
       "    }\n",
       "</style>\n",
       "<table border=\"1\" class=\"dataframe\">\n",
       "  <thead>\n",
       "    <tr style=\"text-align: right;\">\n",
       "      <th></th>\n",
       "      <th>newCases</th>\n",
       "      <th>newDeaths</th>\n",
       "      <th>recovered</th>\n",
       "      <th>totalCases</th>\n",
       "    </tr>\n",
       "    <tr>\n",
       "      <th>epi_week</th>\n",
       "      <th></th>\n",
       "      <th></th>\n",
       "      <th></th>\n",
       "      <th></th>\n",
       "    </tr>\n",
       "  </thead>\n",
       "  <tbody>\n",
       "    <tr>\n",
       "      <th>11</th>\n",
       "      <td>4</td>\n",
       "      <td>0</td>\n",
       "      <td>0.0</td>\n",
       "      <td>4</td>\n",
       "    </tr>\n",
       "    <tr>\n",
       "      <th>12</th>\n",
       "      <td>16</td>\n",
       "      <td>0</td>\n",
       "      <td>0.0</td>\n",
       "      <td>20</td>\n",
       "    </tr>\n",
       "    <tr>\n",
       "      <th>13</th>\n",
       "      <td>36</td>\n",
       "      <td>1</td>\n",
       "      <td>0.0</td>\n",
       "      <td>56</td>\n",
       "    </tr>\n",
       "    <tr>\n",
       "      <th>14</th>\n",
       "      <td>47</td>\n",
       "      <td>1</td>\n",
       "      <td>0.0</td>\n",
       "      <td>103</td>\n",
       "    </tr>\n",
       "    <tr>\n",
       "      <th>15</th>\n",
       "      <td>106</td>\n",
       "      <td>8</td>\n",
       "      <td>0.0</td>\n",
       "      <td>209</td>\n",
       "    </tr>\n",
       "  </tbody>\n",
       "</table>\n",
       "</div>"
      ],
      "text/plain": [
       "          newCases  newDeaths  recovered  totalCases\n",
       "epi_week                                            \n",
       "11               4          0        0.0           4\n",
       "12              16          0        0.0          20\n",
       "13              36          1        0.0          56\n",
       "14              47          1        0.0         103\n",
       "15             106          8        0.0         209"
      ]
     },
     "execution_count": 5,
     "metadata": {},
     "output_type": "execute_result"
    }
   ],
   "source": [
    "df_agg = df.groupby([\"epi_week\"]).agg({\n",
    "    \"newCases\": \"sum\",\n",
    "    \"newDeaths\": \"sum\",\n",
    "    \"recovered\": \"max\",\n",
    "    \"totalCases\": \"max\"\n",
    "})\n",
    "\n",
    "df_agg[\"recovered\"] = df_agg[\"recovered\"].fillna(0)\n",
    "\n",
    "df_agg.head()"
   ]
  },
  {
   "cell_type": "markdown",
   "id": "03c9ea6a",
   "metadata": {},
   "source": [
    "Filtrado apenas as semanas de interesse (21 à 32)."
   ]
  },
  {
   "cell_type": "code",
   "execution_count": 6,
   "id": "d0fa182a",
   "metadata": {},
   "outputs": [
    {
     "data": {
      "text/html": [
       "<div>\n",
       "<style scoped>\n",
       "    .dataframe tbody tr th:only-of-type {\n",
       "        vertical-align: middle;\n",
       "    }\n",
       "\n",
       "    .dataframe tbody tr th {\n",
       "        vertical-align: top;\n",
       "    }\n",
       "\n",
       "    .dataframe thead th {\n",
       "        text-align: right;\n",
       "    }\n",
       "</style>\n",
       "<table border=\"1\" class=\"dataframe\">\n",
       "  <thead>\n",
       "    <tr style=\"text-align: right;\">\n",
       "      <th></th>\n",
       "      <th>newCases</th>\n",
       "      <th>newDeaths</th>\n",
       "      <th>recovered</th>\n",
       "      <th>totalCases</th>\n",
       "    </tr>\n",
       "    <tr>\n",
       "      <th>epi_week</th>\n",
       "      <th></th>\n",
       "      <th></th>\n",
       "      <th></th>\n",
       "      <th></th>\n",
       "    </tr>\n",
       "  </thead>\n",
       "  <tbody>\n",
       "    <tr>\n",
       "      <th>21</th>\n",
       "      <td>783</td>\n",
       "      <td>26</td>\n",
       "      <td>738.0</td>\n",
       "      <td>2435</td>\n",
       "    </tr>\n",
       "    <tr>\n",
       "      <th>22</th>\n",
       "      <td>1174</td>\n",
       "      <td>29</td>\n",
       "      <td>1011.0</td>\n",
       "      <td>3609</td>\n",
       "    </tr>\n",
       "    <tr>\n",
       "      <th>23</th>\n",
       "      <td>2161</td>\n",
       "      <td>48</td>\n",
       "      <td>1629.0</td>\n",
       "      <td>5770</td>\n",
       "    </tr>\n",
       "    <tr>\n",
       "      <th>24</th>\n",
       "      <td>2171</td>\n",
       "      <td>39</td>\n",
       "      <td>2074.0</td>\n",
       "      <td>7941</td>\n",
       "    </tr>\n",
       "    <tr>\n",
       "      <th>25</th>\n",
       "      <td>7509</td>\n",
       "      <td>84</td>\n",
       "      <td>2686.0</td>\n",
       "      <td>15450</td>\n",
       "    </tr>\n",
       "  </tbody>\n",
       "</table>\n",
       "</div>"
      ],
      "text/plain": [
       "          newCases  newDeaths  recovered  totalCases\n",
       "epi_week                                            \n",
       "21             783         26      738.0        2435\n",
       "22            1174         29     1011.0        3609\n",
       "23            2161         48     1629.0        5770\n",
       "24            2171         39     2074.0        7941\n",
       "25            7509         84     2686.0       15450"
      ]
     },
     "execution_count": 6,
     "metadata": {},
     "output_type": "execute_result"
    }
   ],
   "source": [
    "df_sub = df_agg.loc[21:32]\n",
    "df_sub.head()"
   ]
  },
  {
   "cell_type": "markdown",
   "id": "d425b5c2",
   "metadata": {},
   "source": [
    "Para modelar a proporção infectados usamos o número total de casos no período."
   ]
  },
  {
   "cell_type": "code",
   "execution_count": 7,
   "id": "7dde620c",
   "metadata": {},
   "outputs": [
    {
     "data": {
      "text/plain": [
       "84963.0"
      ]
     },
     "execution_count": 7,
     "metadata": {},
     "output_type": "execute_result"
    }
   ],
   "source": [
    "POP = df_sub.loc[32][\"totalCases\"]\n",
    "POP"
   ]
  },
  {
   "cell_type": "code",
   "execution_count": 8,
   "id": "9ab16466",
   "metadata": {},
   "outputs": [
    {
     "data": {
      "text/html": [
       "<div>\n",
       "<style scoped>\n",
       "    .dataframe tbody tr th:only-of-type {\n",
       "        vertical-align: middle;\n",
       "    }\n",
       "\n",
       "    .dataframe tbody tr th {\n",
       "        vertical-align: top;\n",
       "    }\n",
       "\n",
       "    .dataframe thead th {\n",
       "        text-align: right;\n",
       "    }\n",
       "</style>\n",
       "<table border=\"1\" class=\"dataframe\">\n",
       "  <thead>\n",
       "    <tr style=\"text-align: right;\">\n",
       "      <th></th>\n",
       "      <th>newCases</th>\n",
       "      <th>newDeaths</th>\n",
       "      <th>recovered</th>\n",
       "      <th>totalCases</th>\n",
       "      <th>S</th>\n",
       "      <th>I</th>\n",
       "      <th>R</th>\n",
       "      <th>s</th>\n",
       "      <th>i</th>\n",
       "      <th>r</th>\n",
       "    </tr>\n",
       "    <tr>\n",
       "      <th>epi_week</th>\n",
       "      <th></th>\n",
       "      <th></th>\n",
       "      <th></th>\n",
       "      <th></th>\n",
       "      <th></th>\n",
       "      <th></th>\n",
       "      <th></th>\n",
       "      <th></th>\n",
       "      <th></th>\n",
       "      <th></th>\n",
       "    </tr>\n",
       "  </thead>\n",
       "  <tbody>\n",
       "    <tr>\n",
       "      <th>21</th>\n",
       "      <td>783</td>\n",
       "      <td>26</td>\n",
       "      <td>738.0</td>\n",
       "      <td>2435</td>\n",
       "      <td>82528.0</td>\n",
       "      <td>1697.0</td>\n",
       "      <td>738.0</td>\n",
       "      <td>0.971340</td>\n",
       "      <td>0.019973</td>\n",
       "      <td>0.008686</td>\n",
       "    </tr>\n",
       "    <tr>\n",
       "      <th>22</th>\n",
       "      <td>1174</td>\n",
       "      <td>29</td>\n",
       "      <td>1011.0</td>\n",
       "      <td>3609</td>\n",
       "      <td>81354.0</td>\n",
       "      <td>2598.0</td>\n",
       "      <td>1011.0</td>\n",
       "      <td>0.957523</td>\n",
       "      <td>0.030578</td>\n",
       "      <td>0.011899</td>\n",
       "    </tr>\n",
       "    <tr>\n",
       "      <th>23</th>\n",
       "      <td>2161</td>\n",
       "      <td>48</td>\n",
       "      <td>1629.0</td>\n",
       "      <td>5770</td>\n",
       "      <td>79193.0</td>\n",
       "      <td>4141.0</td>\n",
       "      <td>1629.0</td>\n",
       "      <td>0.932088</td>\n",
       "      <td>0.048739</td>\n",
       "      <td>0.019173</td>\n",
       "    </tr>\n",
       "    <tr>\n",
       "      <th>24</th>\n",
       "      <td>2171</td>\n",
       "      <td>39</td>\n",
       "      <td>2074.0</td>\n",
       "      <td>7941</td>\n",
       "      <td>77022.0</td>\n",
       "      <td>5867.0</td>\n",
       "      <td>2074.0</td>\n",
       "      <td>0.906536</td>\n",
       "      <td>0.069054</td>\n",
       "      <td>0.024411</td>\n",
       "    </tr>\n",
       "    <tr>\n",
       "      <th>25</th>\n",
       "      <td>7509</td>\n",
       "      <td>84</td>\n",
       "      <td>2686.0</td>\n",
       "      <td>15450</td>\n",
       "      <td>69513.0</td>\n",
       "      <td>12764.0</td>\n",
       "      <td>2686.0</td>\n",
       "      <td>0.818156</td>\n",
       "      <td>0.150230</td>\n",
       "      <td>0.031614</td>\n",
       "    </tr>\n",
       "  </tbody>\n",
       "</table>\n",
       "</div>"
      ],
      "text/plain": [
       "          newCases  newDeaths  recovered  totalCases        S        I  \\\n",
       "epi_week                                                                 \n",
       "21             783         26      738.0        2435  82528.0   1697.0   \n",
       "22            1174         29     1011.0        3609  81354.0   2598.0   \n",
       "23            2161         48     1629.0        5770  79193.0   4141.0   \n",
       "24            2171         39     2074.0        7941  77022.0   5867.0   \n",
       "25            7509         84     2686.0       15450  69513.0  12764.0   \n",
       "\n",
       "               R         s         i         r  \n",
       "epi_week                                        \n",
       "21         738.0  0.971340  0.019973  0.008686  \n",
       "22        1011.0  0.957523  0.030578  0.011899  \n",
       "23        1629.0  0.932088  0.048739  0.019173  \n",
       "24        2074.0  0.906536  0.069054  0.024411  \n",
       "25        2686.0  0.818156  0.150230  0.031614  "
      ]
     },
     "execution_count": 8,
     "metadata": {},
     "output_type": "execute_result"
    }
   ],
   "source": [
    "df_sub[\"S\"] = POP - df_sub[\"totalCases\"]\n",
    "df_sub[\"I\"] = df_sub[\"totalCases\"] - df_sub[\"recovered\"]\n",
    "df_sub[\"R\"] = df_sub[\"recovered\"]\n",
    "\n",
    "df_sub[\"s\"] = df_sub[\"S\"] / POP\n",
    "df_sub[\"i\"] = df_sub[\"I\"] / POP\n",
    "df_sub[\"r\"] = df_sub[\"R\"] / POP\n",
    "\n",
    "df_sub.head()"
   ]
  },
  {
   "cell_type": "code",
   "execution_count": 9,
   "id": "3ac64552",
   "metadata": {},
   "outputs": [
    {
     "data": {
      "image/png": "[encoded data removed]",
      "text/plain": [
       "<Figure size 648x360 with 1 Axes>"
      ]
     },
     "metadata": {
      "needs_background": "light"
     },
     "output_type": "display_data"
    }
   ],
   "source": [
    "plt.figure(figsize=(9, 5))\n",
    "\n",
    "\n",
    "plt.plot(df_sub[\"s\"], label='s(t)')\n",
    "plt.plot(df_sub[\"i\"], label='i(t)')\n",
    "plt.plot(df_sub[\"r\"], label='r(t)')\n",
    "plt.title(\"SIR de Acordo com os Dados\")\n",
    "\n",
    "plt.legend();"
   ]
  },
  {
   "cell_type": "code",
   "execution_count": 10,
   "id": "20ac61e4",
   "metadata": {},
   "outputs": [
    {
     "data": {
      "text/plain": [
       "array([0.0199734 , 0.03057802, 0.04873886, 0.06905359, 0.1502301 ,\n",
       "       0.20826713, 0.26426798, 0.3044384 , 0.332839  , 0.0772807 ,\n",
       "       0.09564163, 0.11314337])"
      ]
     },
     "execution_count": 10,
     "metadata": {},
     "output_type": "execute_result"
    }
   ],
   "source": [
    "dados_goias = df_sub[\"i\"].to_numpy()\n",
    "dados_goias"
   ]
  },
  {
   "cell_type": "code",
   "execution_count": 11,
   "id": "830c9bde",
   "metadata": {},
   "outputs": [],
   "source": [
    "i_0 = dados_goias[0]\n",
    "b   = 0.998 # taxa de contatio\n",
    "k   = 1/14 # tempo de recuperacao"
   ]
  },
  {
   "cell_type": "code",
   "execution_count": 12,
   "id": "e1941cd8",
   "metadata": {},
   "outputs": [],
   "source": [
    "modelo = SIR_Model(dados_goias, b=b, k=k, i=i_0)"
   ]
  },
  {
   "cell_type": "code",
   "execution_count": 13,
   "id": "06454fda",
   "metadata": {},
   "outputs": [
    {
     "data": {
      "text/plain": [
       "array([9.60491285e-01, 9.23986970e-01, 8.57716332e-01, 7.43865174e-01,\n",
       "       5.67658581e-01, 3.42971399e-01, 1.40008016e-01, 3.47126311e-02,\n",
       "       6.82337283e-03, 1.54291468e-03, 4.26043639e-04])"
      ]
     },
     "execution_count": 13,
     "metadata": {},
     "output_type": "execute_result"
    }
   ],
   "source": [
    "modelo.predizer(11)[:, 0]"
   ]
  },
  {
   "cell_type": "code",
   "execution_count": 14,
   "id": "76bb4f33",
   "metadata": {},
   "outputs": [
    {
     "data": {
      "image/png": "[encoded data removed]",
      "text/plain": [
       "<Figure size 648x360 with 1 Axes>"
      ]
     },
     "metadata": {
      "needs_background": "light"
     },
     "output_type": "display_data"
    }
   ],
   "source": [
    "modelo.grafico_simulado(11+5)"
   ]
  },
  {
   "cell_type": "markdown",
   "id": "ba2b720d",
   "metadata": {},
   "source": [
    "Para encontrar os parâmetros que minimizam o erro quadrático fizemos uma matriz 100x1000 de valores para k e b igualmente espaçados. Entãom ajustamos o modelo a cada um deles, calculamos seu erro quadrático e escolhemos aqueles que o minimizaram."
   ]
  },
  {
   "cell_type": "code",
   "execution_count": 15,
   "id": "8b7c3595",
   "metadata": {},
   "outputs": [
    {
     "data": {
      "text/html": [
       "<div>\n",
       "<style scoped>\n",
       "    .dataframe tbody tr th:only-of-type {\n",
       "        vertical-align: middle;\n",
       "    }\n",
       "\n",
       "    .dataframe tbody tr th {\n",
       "        vertical-align: top;\n",
       "    }\n",
       "\n",
       "    .dataframe thead th {\n",
       "        text-align: right;\n",
       "    }\n",
       "</style>\n",
       "<table border=\"1\" class=\"dataframe\">\n",
       "  <thead>\n",
       "    <tr style=\"text-align: right;\">\n",
       "      <th></th>\n",
       "      <th>k</th>\n",
       "      <th>b</th>\n",
       "      <th>erro</th>\n",
       "    </tr>\n",
       "  </thead>\n",
       "  <tbody>\n",
       "    <tr>\n",
       "      <th>99103</th>\n",
       "      <td>0.200000</td>\n",
       "      <td>0.515516</td>\n",
       "      <td>0.144726</td>\n",
       "    </tr>\n",
       "    <tr>\n",
       "      <th>99104</th>\n",
       "      <td>0.200000</td>\n",
       "      <td>0.520521</td>\n",
       "      <td>0.144821</td>\n",
       "    </tr>\n",
       "    <tr>\n",
       "      <th>99102</th>\n",
       "      <td>0.200000</td>\n",
       "      <td>0.510511</td>\n",
       "      <td>0.144851</td>\n",
       "    </tr>\n",
       "    <tr>\n",
       "      <th>98103</th>\n",
       "      <td>0.198653</td>\n",
       "      <td>0.515516</td>\n",
       "      <td>0.145014</td>\n",
       "    </tr>\n",
       "    <tr>\n",
       "      <th>98102</th>\n",
       "      <td>0.198653</td>\n",
       "      <td>0.510511</td>\n",
       "      <td>0.145043</td>\n",
       "    </tr>\n",
       "    <tr>\n",
       "      <th>...</th>\n",
       "      <td>...</td>\n",
       "      <td>...</td>\n",
       "      <td>...</td>\n",
       "    </tr>\n",
       "    <tr>\n",
       "      <th>53962</th>\n",
       "      <td>0.138047</td>\n",
       "      <td>4.814815</td>\n",
       "      <td>inf</td>\n",
       "    </tr>\n",
       "    <tr>\n",
       "      <th>53963</th>\n",
       "      <td>0.138047</td>\n",
       "      <td>4.819820</td>\n",
       "      <td>inf</td>\n",
       "    </tr>\n",
       "    <tr>\n",
       "      <th>53964</th>\n",
       "      <td>0.138047</td>\n",
       "      <td>4.824825</td>\n",
       "      <td>inf</td>\n",
       "    </tr>\n",
       "    <tr>\n",
       "      <th>53958</th>\n",
       "      <td>0.138047</td>\n",
       "      <td>4.794795</td>\n",
       "      <td>inf</td>\n",
       "    </tr>\n",
       "    <tr>\n",
       "      <th>99999</th>\n",
       "      <td>0.200000</td>\n",
       "      <td>5.000000</td>\n",
       "      <td>inf</td>\n",
       "    </tr>\n",
       "  </tbody>\n",
       "</table>\n",
       "<p>100000 rows × 3 columns</p>\n",
       "</div>"
      ],
      "text/plain": [
       "              k         b      erro\n",
       "99103  0.200000  0.515516  0.144726\n",
       "99104  0.200000  0.520521  0.144821\n",
       "99102  0.200000  0.510511  0.144851\n",
       "98103  0.198653  0.515516  0.145014\n",
       "98102  0.198653  0.510511  0.145043\n",
       "...         ...       ...       ...\n",
       "53962  0.138047  4.814815       inf\n",
       "53963  0.138047  4.819820       inf\n",
       "53964  0.138047  4.824825       inf\n",
       "53958  0.138047  4.794795       inf\n",
       "99999  0.200000  5.000000       inf\n",
       "\n",
       "[100000 rows x 3 columns]"
      ]
     },
     "execution_count": 15,
     "metadata": {},
     "output_type": "execute_result"
    }
   ],
   "source": [
    "# 𝑘 ∈ [1/15,1/5] e 𝑏 ∈ [0,5].\n",
    "\n",
    "erros = []\n",
    "\n",
    "for k in np.linspace(1/15, 1/5, 100):\n",
    "    for b in np.linspace(0, 5, 1000):\n",
    "        modelo = SIR_Model(dados_goias, b=b,k=k,i=i_0)\n",
    "        \n",
    "        erro = modelo.erro_quadratico()\n",
    "                \n",
    "        erros.append((k, b, erro))\n",
    "\n",
    "erros = pd.DataFrame(erros, columns=[\"k\", \"b\", \"erro\"])\n",
    "erros.sort_values(\"erro\", ascending=True)"
   ]
  },
  {
   "cell_type": "markdown",
   "id": "f3aa8973",
   "metadata": {},
   "source": [
    "**Esses foram o (k, b) = (0.2, 0.515516) que minimizaram o erro quadrático do Modelo SIR.**"
   ]
  },
  {
   "cell_type": "code",
   "execution_count": 16,
   "id": "e1ed2493",
   "metadata": {},
   "outputs": [
    {
     "data": {
      "image/png": "[encoded data removed]",
      "text/plain": [
       "<Figure size 648x360 with 1 Axes>"
      ]
     },
     "metadata": {
      "needs_background": "light"
     },
     "output_type": "display_data"
    }
   ],
   "source": [
    "k = 0.2\n",
    "b = 0.515516\n",
    "\n",
    "SIR_Model(dados_goias, k = k, b = b, i=i_0).grafico_simulado(11)"
   ]
  },
  {
   "cell_type": "code",
   "execution_count": 17,
   "id": "1280fd9b",
   "metadata": {},
   "outputs": [
    {
     "data": {
      "image/png": "[encoded data removed]",
      "text/plain": [
       "<Figure size 648x360 with 1 Axes>"
      ]
     },
     "metadata": {
      "needs_background": "light"
     },
     "output_type": "display_data"
    }
   ],
   "source": [
    "plt.figure(figsize=(9, 5))\n",
    "\n",
    "plt.title(\"Curva de Infectados de Acordo com os Dados\")\n",
    "plt.plot(dados_goias, label='i(t)')\n",
    "\n",
    "plt.xlabel('Semana Epidemiológica', fontsize=12)\n",
    "plt.ylabel('Proporção de Infectados', fontsize=12)\n",
    "\n",
    "plt.legend();"
   ]
  },
  {
   "cell_type": "code",
   "execution_count": 18,
   "id": "2d14b3f1",
   "metadata": {},
   "outputs": [],
   "source": [
    "i_0 = dados_goias[0]\n",
    "k = 0.2\n",
    "b = 0.515516\n",
    "\n",
    "modelo = SIR_Model(dados_goias[:7], b=b, k=k, i=i_0)"
   ]
  },
  {
   "cell_type": "code",
   "execution_count": 19,
   "id": "2330c55d",
   "metadata": {},
   "outputs": [
    {
     "data": {
      "image/png": "[encoded data removed]",
      "text/plain": [
       "<Figure size 648x360 with 1 Axes>"
      ]
     },
     "metadata": {
      "needs_background": "light"
     },
     "output_type": "display_data"
    }
   ],
   "source": [
    "modelo.grafico_predicao(5)"
   ]
  },
  {
   "cell_type": "code",
   "execution_count": 20,
   "id": "47272d01",
   "metadata": {},
   "outputs": [
    {
     "data": {
      "image/png": "[encoded data removed]",
      "text/plain": [
       "<Figure size 648x360 with 1 Axes>"
      ]
     },
     "metadata": {
      "needs_background": "light"
     },
     "output_type": "display_data"
    }
   ],
   "source": [
    "modelo.grafico_simulado(11)"
   ]
  },
  {
   "cell_type": "code",
   "execution_count": null,
   "id": "c1ae5b20",
   "metadata": {},
   "outputs": [],
   "source": []
  },
  {
   "cell_type": "code",
   "execution_count": null,
   "id": "30370c82",
   "metadata": {},
   "outputs": [],
   "source": []
  }
 ],
 "metadata": {
  "kernelspec": {
   "display_name": "Python 3",
   "language": "python",
   "name": "python3"
  },
  "language_info": {
   "codemirror_mode": {
    "name": "ipython",
    "version": 3
   },
   "file_extension": ".py",
   "mimetype": "text/x-python",
   "name": "python",
   "nbconvert_exporter": "python",
   "pygments_lexer": "ipython3",
   "version": "3.8.8"
  }
 },
 "nbformat": 4,
 "nbformat_minor": 5
}
